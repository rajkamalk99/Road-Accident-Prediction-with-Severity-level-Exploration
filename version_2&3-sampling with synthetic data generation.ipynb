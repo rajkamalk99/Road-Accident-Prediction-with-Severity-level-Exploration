{
  "nbformat": 4,
  "nbformat_minor": 0,
  "metadata": {
    "colab": {
      "name": "Major.ipynb",
      "provenance": [],
      "machine_shape": "hm"
    },
    "kernelspec": {
      "name": "python3",
      "display_name": "Python 3"
    }
  },
  "cells": [
    {
      "cell_type": "code",
      "metadata": {
        "id": "6Apfeyzk-seU",
        "colab_type": "code",
        "outputId": "a492a26e-dd1d-4893-8cf2-bc074a8f5015",
        "colab": {
          "base_uri": "https://localhost:8080/",
          "height": 122
        }
      },
      "source": [
        "# loads the drive \n",
        "from google.colab import drive\n",
        "drive.mount('/content/gdrive', force_remount=True)"
      ],
      "execution_count": 0,
      "outputs": [
        {
          "output_type": "stream",
          "text": [
            "Go to this URL in a browser: https://accounts.google.com/o/oauth2/auth?client_id=947318989803-6bn6qk8qdgf4n4g3pfee6491hc0brc4i.apps.googleusercontent.com&redirect_uri=urn%3aietf%3awg%3aoauth%3a2.0%3aoob&response_type=code&scope=email%20https%3a%2f%2fwww.googleapis.com%2fauth%2fdocs.test%20https%3a%2f%2fwww.googleapis.com%2fauth%2fdrive%20https%3a%2f%2fwww.googleapis.com%2fauth%2fdrive.photos.readonly%20https%3a%2f%2fwww.googleapis.com%2fauth%2fpeopleapi.readonly\n",
            "\n",
            "Enter your authorization code:\n",
            "··········\n",
            "Mounted at /content/gdrive\n"
          ],
          "name": "stdout"
        }
      ]
    },
    {
      "cell_type": "code",
      "metadata": {
        "id": "Wo9zosj0-b7D",
        "colab_type": "code",
        "outputId": "f4ad390d-916b-4a7a-d3f5-8f976fbee3d9",
        "colab": {
          "base_uri": "https://localhost:8080/",
          "height": 156
        }
      },
      "source": [
        "# Import numpy, pandas, matpltlib.pyplot, sklearn modules and seaborn\n",
        "import numpy as np\n",
        "import pandas as pd\n",
        "import pickle\n",
        "import matplotlib.pyplot as plt\n",
        "import seaborn as sns\n",
        "from collections import Counter\n",
        "from tqdm import tqdm\n",
        "import gc\n",
        "\n",
        "%matplotlib inline\n",
        "pd.set_option('display.max_rows', 200)\n",
        "pd.set_option('display.max_columns', 200)\n",
        "plt.style.use('ggplot')\n",
        "\n",
        "# Import KNeighborsClassifier from sklearn.neighbors\n",
        "from sklearn.neighbors import KNeighborsClassifier\n",
        "\n",
        "# Import DecisionTreeClassifier from sklearn.tree\n",
        "from sklearn.tree import DecisionTreeClassifier\n",
        "\n",
        "# Import RandomForestClassifier\n",
        "from sklearn.ensemble import RandomForestClassifier, VotingClassifier\n",
        "\n",
        "# Import LogisticRegression\n",
        "from sklearn.linear_model import LogisticRegression\n",
        "\n",
        "from sklearn.model_selection import train_test_split\n",
        "from sklearn.model_selection import GridSearchCV\n",
        "from sklearn.feature_selection import SelectFromModel\n",
        "from sklearn.metrics import classification_report\n",
        "from sklearn.metrics import confusion_matrix\n",
        "from sklearn.metrics import accuracy_score\n",
        "from sklearn.metrics import roc_curve, auc\n",
        "from sklearn import preprocessing\n",
        "from sklearn.metrics import classification_report\n",
        "from sklearn.linear_model import SGDClassifier\n",
        "from sklearn.naive_bayes import GaussianNB \n",
        "\n",
        "from xgboost import XGBClassifier\n",
        "import lightgbm as lgbm\n",
        "from sklearn.neighbors import KNeighborsClassifier \n",
        "from sklearn import svm\n",
        "\n",
        "from keras.wrappers.scikit_learn import KerasClassifier\n",
        "from keras.utils import np_utils\n",
        "from sklearn.model_selection import cross_val_score\n",
        "from sklearn.model_selection import KFold\n",
        "\n",
        "\n",
        "from keras.regularizers import l2\n",
        "from keras import backend as K\n",
        "from keras.models import load_model\n",
        "from keras.models import Model, Sequential\n",
        "from keras.layers import Dense, Dropout, Flatten, Input, AveragePooling2D, merge, Activation, GlobalAveragePooling2D\n",
        "from keras.layers import Conv2D, MaxPooling2D, BatchNormalization, Conv1D, MaxPool1D, Flatten\n",
        "from keras.layers import Concatenate\n",
        "from keras import optimizers\n",
        "from keras.callbacks import *\n",
        "\n",
        "\n",
        "from imblearn.over_sampling import SMOTENC\n",
        "import pickle"
      ],
      "execution_count": 0,
      "outputs": [
        {
          "output_type": "stream",
          "text": [
            "/usr/local/lib/python3.6/dist-packages/statsmodels/tools/_testing.py:19: FutureWarning: pandas.util.testing is deprecated. Use the functions in the public API at pandas.testing instead.\n",
            "  import pandas.util.testing as tm\n",
            "Using TensorFlow backend.\n",
            "/usr/local/lib/python3.6/dist-packages/sklearn/externals/six.py:31: FutureWarning: The module is deprecated in version 0.21 and will be removed in version 0.23 since we've dropped support for Python 2.7. Please rely on the official version of six (https://pypi.org/project/six/).\n",
            "  \"(https://pypi.org/project/six/).\", FutureWarning)\n",
            "/usr/local/lib/python3.6/dist-packages/sklearn/utils/deprecation.py:144: FutureWarning: The sklearn.neighbors.base module is  deprecated in version 0.22 and will be removed in version 0.24. The corresponding classes / functions should instead be imported from sklearn.neighbors. Anything that cannot be imported from sklearn.neighbors is now part of the private API.\n",
            "  warnings.warn(message, FutureWarning)\n"
          ],
          "name": "stderr"
        }
      ]
    },
    {
      "cell_type": "code",
      "metadata": {
        "id": "UvKz7W4QE6ot",
        "colab_type": "code",
        "colab": {}
      },
      "source": [
        "batch_size = 28 \n",
        "nb_epochs = 10"
      ],
      "execution_count": 0,
      "outputs": []
    },
    {
      "cell_type": "code",
      "metadata": {
        "id": "8ifIAwFD_L0O",
        "colab_type": "code",
        "colab": {}
      },
      "source": [
        "def reduce_mem_usage(df):\n",
        "    \"\"\" iterate through all the columns of a dataframe and modify the data type\n",
        "        to reduce memory usage.        \n",
        "    \"\"\"\n",
        "    start_mem = df.memory_usage().sum() / 1024**2\n",
        "    print('Memory usage of dataframe is {:.2f} MB'.format(start_mem))\n",
        "    \n",
        "    for col in df.columns:\n",
        "        col_type = df[col].dtype\n",
        "        \n",
        "        if col_type != object:\n",
        "            c_min = df[col].min()\n",
        "            c_max = df[col].max()\n",
        "            if str(col_type)[:3] == 'int':\n",
        "                if c_min > np.iinfo(np.int8).min and c_max < np.iinfo(np.int8).max:\n",
        "                    df[col] = df[col].astype(np.int8)\n",
        "                elif c_min > np.iinfo(np.int16).min and c_max < np.iinfo(np.int16).max:\n",
        "                    df[col] = df[col].astype(np.int16)\n",
        "                elif c_min > np.iinfo(np.int32).min and c_max < np.iinfo(np.int32).max:\n",
        "                    df[col] = df[col].astype(np.int32)\n",
        "                elif c_min > np.iinfo(np.int64).min and c_max < np.iinfo(np.int64).max:\n",
        "                    df[col] = df[col].astype(np.int64)  \n",
        "            else:\n",
        "                if c_min > np.finfo(np.float16).min and c_max < np.finfo(np.float16).max:\n",
        "                    df[col] = df[col].astype(np.float16)\n",
        "                elif c_min > np.finfo(np.float32).min and c_max < np.finfo(np.float32).max:\n",
        "                    df[col] = df[col].astype(np.float32)\n",
        "                else:\n",
        "                    df[col] = df[col].astype(np.float64)\n",
        "        else:\n",
        "            df[col] = df[col].astype('category')\n",
        "\n",
        "    end_mem = df.memory_usage().sum() / 1024**2\n",
        "    print('Memory usage after optimization is: {:.2f} MB'.format(end_mem))\n",
        "    print('Decreased by {:.1f}%'.format(100 * (start_mem - end_mem) / start_mem))\n",
        "    \n",
        "    return df"
      ],
      "execution_count": 0,
      "outputs": []
    },
    {
      "cell_type": "code",
      "metadata": {
        "id": "HKg5PcpV_Mzy",
        "colab_type": "code",
        "colab": {}
      },
      "source": [
        "def import_data():\n",
        "    \"\"\"create a dataframe and optimize its memory usage\"\"\"\n",
        "    df = pd.read_csv(\"/content/gdrive/My Drive/Kaggle/US_Accidents_Dec19.csv\")\n",
        "    df = reduce_mem_usage(df)\n",
        "    return df"
      ],
      "execution_count": 0,
      "outputs": []
    },
    {
      "cell_type": "code",
      "metadata": {
        "id": "WVQQGjOx_P1p",
        "colab_type": "code",
        "outputId": "659800ac-5065-4c9c-fd2f-8efd2df5278d",
        "colab": {
          "base_uri": "https://localhost:8080/",
          "height": 68
        }
      },
      "source": [
        "# Import the data\n",
        "df = import_data()"
      ],
      "execution_count": 0,
      "outputs": [
        {
          "output_type": "stream",
          "text": [
            "Memory usage of dataframe is 853.80 MB\n",
            "Memory usage after optimization is: 689.50 MB\n",
            "Decreased by 19.2%\n"
          ],
          "name": "stdout"
        }
      ]
    },
    {
      "cell_type": "code",
      "metadata": {
        "id": "oGdhJ-810v86",
        "colab_type": "code",
        "outputId": "a06fb671-3c4e-43af-d68b-ed859e5446ad",
        "colab": {
          "base_uri": "https://localhost:8080/",
          "height": 221
        }
      },
      "source": [
        "# for col in df.columns:\n",
        "#   print(f\"{col} - {df[f'{col}'].dtype}\")\n",
        "\n",
        "df.columns"
      ],
      "execution_count": 0,
      "outputs": [
        {
          "output_type": "execute_result",
          "data": {
            "text/plain": [
              "Index(['ID', 'Source', 'TMC', 'Severity', 'Start_Time', 'End_Time',\n",
              "       'Start_Lat', 'Start_Lng', 'End_Lat', 'End_Lng', 'Distance(mi)',\n",
              "       'Description', 'Number', 'Street', 'Side', 'City', 'County', 'State',\n",
              "       'Zipcode', 'Country', 'Timezone', 'Airport_Code', 'Weather_Timestamp',\n",
              "       'Temperature(F)', 'Wind_Chill(F)', 'Humidity(%)', 'Pressure(in)',\n",
              "       'Visibility(mi)', 'Wind_Direction', 'Wind_Speed(mph)',\n",
              "       'Precipitation(in)', 'Weather_Condition', 'Amenity', 'Bump', 'Crossing',\n",
              "       'Give_Way', 'Junction', 'No_Exit', 'Railway', 'Roundabout', 'Station',\n",
              "       'Stop', 'Traffic_Calming', 'Traffic_Signal', 'Turning_Loop',\n",
              "       'Sunrise_Sunset', 'Civil_Twilight', 'Nautical_Twilight',\n",
              "       'Astronomical_Twilight'],\n",
              "      dtype='object')"
            ]
          },
          "metadata": {
            "tags": []
          },
          "execution_count": 7
        }
      ]
    },
    {
      "cell_type": "code",
      "metadata": {
        "id": "VLRXW4hLItPt",
        "colab_type": "code",
        "outputId": "fcba126e-ade3-4393-f377-5290584df1ba",
        "colab": {
          "base_uri": "https://localhost:8080/",
          "height": 347
        }
      },
      "source": [
        "import matplotlib.pyplot as plt\n",
        "fig = plt.figure()\n",
        "ax = fig.add_axes([0,0,1,1])\n",
        "Classes = ['Class -1', 'Class -2', 'Class -3', 'Class -4']\n",
        "count = Counter(df[\"Severity\"])\n",
        "counts = [count[1], count[2], count[3], count[4]]\n",
        "ax.bar(Classes,counts)\n",
        "plt.show()"
      ],
      "execution_count": 0,
      "outputs": [
        {
          "output_type": "display_data",
          "data": {
            "image/png": "[encoded data removed]",
            "text/plain": [
              "<Figure size 432x288 with 1 Axes>"
            ]
          },
          "metadata": {
            "tags": []
          }
        }
      ]
    },
    {
      "cell_type": "code",
      "metadata": {
        "id": "nRpg0g_4_T-f",
        "colab_type": "code",
        "colab": {}
      },
      "source": [
        "# Convert Start_Time and End_Time to datetypes\n",
        "df['Start_Time'] = pd.to_datetime(df['Start_Time'], errors='coerce')\n",
        "df['End_Time'] = pd.to_datetime(df['End_Time'], errors='coerce')\n",
        "\n",
        "# Extract year, month, day, hour and weekday\n",
        "df['Year']=df['Start_Time'].dt.year\n",
        "df['Month']=df['Start_Time'].dt.strftime('%b')\n",
        "df['Day']=df['Start_Time'].dt.day\n",
        "df['Hour']=df['Start_Time'].dt.hour\n",
        "df['Weekday']=df['Start_Time'].dt.strftime('%a')\n",
        "\n",
        "# Extract the amount of time in the unit of minutes for each accident, round to the nearest integer\n",
        "td='Time_Duration(min)'\n",
        "df[td]=round((df['End_Time']-df['Start_Time'])/np.timedelta64(1,'m'))\n",
        "# df.info()"
      ],
      "execution_count": 0,
      "outputs": []
    },
    {
      "cell_type": "code",
      "metadata": {
        "id": "sDxOWPoo_U-F",
        "colab_type": "code",
        "outputId": "3444cefd-17e8-488a-941b-728fa055fa27",
        "colab": {
          "base_uri": "https://localhost:8080/",
          "height": 34
        }
      },
      "source": [
        "# Check if there is any negative time_duration values\n",
        "df[td][df[td]<=0]\n",
        "\n",
        "# Drop the rows with td<0\n",
        "\n",
        "neg_outliers =df[td]<=0\n",
        "\n",
        "# Set outliers to NAN\n",
        "df[neg_outliers] = np.nan\n",
        "\n",
        "# Drop rows with negative td\n",
        "df.dropna(subset=[td],axis=0,inplace=True)\n",
        "\n",
        "# Double check to make sure no more negative td\n",
        "print(\"Double check to make sure no more negative td: \", df[td][df[td]<=0])\n",
        "\n",
        "del neg_outliers\n"
      ],
      "execution_count": 0,
      "outputs": [
        {
          "output_type": "stream",
          "text": [
            "Double check to make sure no more negative td:  Series([], Name: Time_Duration(min), dtype: float64)\n"
          ],
          "name": "stdout"
        }
      ]
    },
    {
      "cell_type": "code",
      "metadata": {
        "id": "NclmU4GK_d7G",
        "colab_type": "code",
        "outputId": "a54fee5e-021d-4f08-91ce-8886b4fe67ea",
        "colab": {
          "base_uri": "https://localhost:8080/",
          "height": 34
        }
      },
      "source": [
        "# Print time_duration information\n",
        "print('Max time to clear an accident: {} minutes or {} hours or {} days; Min to clear an accident td: {} minutes.'.format(df[td].max(),round(df[td].max()/60), round(df[td].max()/60/24), df[td].min()))"
      ],
      "execution_count": 0,
      "outputs": [
        {
          "output_type": "stream",
          "text": [
            "Max time to clear an accident: 1786320.0 minutes or 29772 hours or 1240 days; Min to clear an accident td: 1.0 minutes.\n"
          ],
          "name": "stdout"
        }
      ]
    },
    {
      "cell_type": "code",
      "metadata": {
        "id": "HH-0qp-1_fQY",
        "colab_type": "code",
        "colab": {}
      },
      "source": [
        "# Set the list of features to include in Machine Learning\n",
        "feature_lst=[\n",
        "             'TMC',\n",
        "             'Severity',\n",
        "             'Start_Lng','Start_Lat',\n",
        "             'Side','City','County','State',\n",
        "             'Timezone',\n",
        "             'Temperature(F)','Humidity(%)','Pressure(in)', 'Visibility(mi)', \n",
        "             'Wind_Direction',\n",
        "             'Weather_Condition','Amenity','Bump',\n",
        "             'Crossing','Give_Way','Junction','No_Exit','Railway',\n",
        "             'Roundabout','Station','Stop','Traffic_Calming','Traffic_Signal',\n",
        "             'Turning_Loop','Sunrise_Sunset','Hour','Weekday', \n",
        "            ]"
      ],
      "execution_count": 0,
      "outputs": []
    },
    {
      "cell_type": "code",
      "metadata": {
        "id": "4XNj9dzA_hpp",
        "colab_type": "code",
        "colab": {}
      },
      "source": [
        "# Select the dataset to include only the selected features\n",
        "df_sel =df[feature_lst].copy()\n",
        "\n",
        "del df"
      ],
      "execution_count": 0,
      "outputs": []
    },
    {
      "cell_type": "code",
      "metadata": {
        "id": "VXdZVijkZ4z2",
        "colab_type": "code",
        "outputId": "994e1451-0b71-48f7-c21f-fa8a1a94bca0",
        "colab": {
          "base_uri": "https://localhost:8080/",
          "height": 393
        }
      },
      "source": [
        "def missing_data_stats(df):\n",
        "    zero_val = (df == 0.00).astype(int).sum(axis=0)\n",
        "    mis_val = df.isnull().sum()\n",
        "    mis_val_percent = 100 * df.isnull().sum() / len(df)\n",
        "    mz_table = pd.concat([zero_val, mis_val, mis_val_percent], axis=1)\n",
        "    mz_table = mz_table.rename(\n",
        "    columns = {0 : 'Zero Values', 1 : 'Missing(Null) Values', 2 : '% of Total Missing(Null) Values'})\n",
        "    mz_table['Total (Zero + Missing) Values'] = mz_table['Zero Values'] + mz_table['Missing(Null) Values']\n",
        "    mz_table['% Total (Zero + Missing) Values'] = 100 * mz_table['Total (Zero + Missing) Values'] / len(df)\n",
        "    mz_table['Data Type'] = df.dtypes\n",
        "    mz_table = mz_table[mz_table.iloc[:,1] != 0].sort_values('% of Total Missing(Null) Values', ascending=False).round(1)\n",
        "    print (\"There are \" + str(mz_table.shape[0]) + \" columns that have missing values out of \", len(df.columns), \" columns.\")\n",
        "    if int(mz_table.shape[0]) != 0:\n",
        "        return mz_table\n",
        "    else:\n",
        "        return None\n",
        "    \n",
        "faulty_data = missing_data_stats(df_sel)\n",
        "faulty_data"
      ],
      "execution_count": 0,
      "outputs": [
        {
          "output_type": "stream",
          "text": [
            "There are 10 columns that have missing values out of  31  columns.\n"
          ],
          "name": "stdout"
        },
        {
          "output_type": "execute_result",
          "data": {
            "text/html": [
              "<div>\n",
              "<style scoped>\n",
              "    .dataframe tbody tr th:only-of-type {\n",
              "        vertical-align: middle;\n",
              "    }\n",
              "\n",
              "    .dataframe tbody tr th {\n",
              "        vertical-align: top;\n",
              "    }\n",
              "\n",
              "    .dataframe thead th {\n",
              "        text-align: right;\n",
              "    }\n",
              "</style>\n",
              "<table border=\"1\" class=\"dataframe\">\n",
              "  <thead>\n",
              "    <tr style=\"text-align: right;\">\n",
              "      <th></th>\n",
              "      <th>Zero Values</th>\n",
              "      <th>Missing(Null) Values</th>\n",
              "      <th>% of Total Missing(Null) Values</th>\n",
              "      <th>Total (Zero + Missing) Values</th>\n",
              "      <th>% Total (Zero + Missing) Values</th>\n",
              "      <th>Data Type</th>\n",
              "    </tr>\n",
              "  </thead>\n",
              "  <tbody>\n",
              "    <tr>\n",
              "      <th>TMC</th>\n",
              "      <td>0</td>\n",
              "      <td>728067</td>\n",
              "      <td>24.5</td>\n",
              "      <td>728067</td>\n",
              "      <td>24.5</td>\n",
              "      <td>float16</td>\n",
              "    </tr>\n",
              "    <tr>\n",
              "      <th>Weather_Condition</th>\n",
              "      <td>0</td>\n",
              "      <td>65932</td>\n",
              "      <td>2.2</td>\n",
              "      <td>65932</td>\n",
              "      <td>2.2</td>\n",
              "      <td>category</td>\n",
              "    </tr>\n",
              "    <tr>\n",
              "      <th>Visibility(mi)</th>\n",
              "      <td>800</td>\n",
              "      <td>65691</td>\n",
              "      <td>2.2</td>\n",
              "      <td>66491</td>\n",
              "      <td>2.2</td>\n",
              "      <td>float16</td>\n",
              "    </tr>\n",
              "    <tr>\n",
              "      <th>Humidity(%)</th>\n",
              "      <td>0</td>\n",
              "      <td>59173</td>\n",
              "      <td>2.0</td>\n",
              "      <td>59173</td>\n",
              "      <td>2.0</td>\n",
              "      <td>float16</td>\n",
              "    </tr>\n",
              "    <tr>\n",
              "      <th>Temperature(F)</th>\n",
              "      <td>651</td>\n",
              "      <td>56063</td>\n",
              "      <td>1.9</td>\n",
              "      <td>56714</td>\n",
              "      <td>1.9</td>\n",
              "      <td>float16</td>\n",
              "    </tr>\n",
              "    <tr>\n",
              "      <th>Pressure(in)</th>\n",
              "      <td>2</td>\n",
              "      <td>48142</td>\n",
              "      <td>1.6</td>\n",
              "      <td>48144</td>\n",
              "      <td>1.6</td>\n",
              "      <td>float16</td>\n",
              "    </tr>\n",
              "    <tr>\n",
              "      <th>Wind_Direction</th>\n",
              "      <td>0</td>\n",
              "      <td>45101</td>\n",
              "      <td>1.5</td>\n",
              "      <td>45101</td>\n",
              "      <td>1.5</td>\n",
              "      <td>category</td>\n",
              "    </tr>\n",
              "    <tr>\n",
              "      <th>Timezone</th>\n",
              "      <td>0</td>\n",
              "      <td>3163</td>\n",
              "      <td>0.1</td>\n",
              "      <td>3163</td>\n",
              "      <td>0.1</td>\n",
              "      <td>category</td>\n",
              "    </tr>\n",
              "    <tr>\n",
              "      <th>Sunrise_Sunset</th>\n",
              "      <td>0</td>\n",
              "      <td>93</td>\n",
              "      <td>0.0</td>\n",
              "      <td>93</td>\n",
              "      <td>0.0</td>\n",
              "      <td>category</td>\n",
              "    </tr>\n",
              "    <tr>\n",
              "      <th>City</th>\n",
              "      <td>0</td>\n",
              "      <td>83</td>\n",
              "      <td>0.0</td>\n",
              "      <td>83</td>\n",
              "      <td>0.0</td>\n",
              "      <td>category</td>\n",
              "    </tr>\n",
              "  </tbody>\n",
              "</table>\n",
              "</div>"
            ],
            "text/plain": [
              "                   Zero Values  Missing(Null) Values  \\\n",
              "TMC                          0                728067   \n",
              "Weather_Condition            0                 65932   \n",
              "Visibility(mi)             800                 65691   \n",
              "Humidity(%)                  0                 59173   \n",
              "Temperature(F)             651                 56063   \n",
              "Pressure(in)                 2                 48142   \n",
              "Wind_Direction               0                 45101   \n",
              "Timezone                     0                  3163   \n",
              "Sunrise_Sunset               0                    93   \n",
              "City                         0                    83   \n",
              "\n",
              "                   % of Total Missing(Null) Values  \\\n",
              "TMC                                           24.5   \n",
              "Weather_Condition                              2.2   \n",
              "Visibility(mi)                                 2.2   \n",
              "Humidity(%)                                    2.0   \n",
              "Temperature(F)                                 1.9   \n",
              "Pressure(in)                                   1.6   \n",
              "Wind_Direction                                 1.5   \n",
              "Timezone                                       0.1   \n",
              "Sunrise_Sunset                                 0.0   \n",
              "City                                           0.0   \n",
              "\n",
              "                   Total (Zero + Missing) Values  \\\n",
              "TMC                                       728067   \n",
              "Weather_Condition                          65932   \n",
              "Visibility(mi)                             66491   \n",
              "Humidity(%)                                59173   \n",
              "Temperature(F)                             56714   \n",
              "Pressure(in)                               48144   \n",
              "Wind_Direction                             45101   \n",
              "Timezone                                    3163   \n",
              "Sunrise_Sunset                                93   \n",
              "City                                          83   \n",
              "\n",
              "                   % Total (Zero + Missing) Values Data Type  \n",
              "TMC                                           24.5   float16  \n",
              "Weather_Condition                              2.2  category  \n",
              "Visibility(mi)                                 2.2   float16  \n",
              "Humidity(%)                                    2.0   float16  \n",
              "Temperature(F)                                 1.9   float16  \n",
              "Pressure(in)                                   1.6   float16  \n",
              "Wind_Direction                                 1.5  category  \n",
              "Timezone                                       0.1  category  \n",
              "Sunrise_Sunset                                 0.0  category  \n",
              "City                                           0.0  category  "
            ]
          },
          "metadata": {
            "tags": []
          },
          "execution_count": 14
        }
      ]
    },
    {
      "cell_type": "code",
      "metadata": {
        "id": "u9WFUIuY4Qu6",
        "colab_type": "code",
        "outputId": "7636e182-2172-463d-cc79-bcfff0d0ee92",
        "colab": {
          "base_uri": "https://localhost:8080/",
          "height": 176
        }
      },
      "source": [
        "df_sel['Weather_Condition'].fillna(df_sel['Weather_Condition'].value_counts().index[0], inplace =True) \n",
        "\n",
        "df_sel['Visibility(mi)'].fillna(df_sel['Visibility(mi)'].value_counts().index[0], inplace =True) \n",
        "\n",
        "df_sel['Humidity(%)'].fillna(df_sel['Humidity(%)'].value_counts().index[0], inplace =True) \n",
        "\n",
        "df_sel['Temperature(F)'].fillna(df_sel['Temperature(F)'].value_counts().index[0], inplace =True) \n",
        "\n",
        "df_sel['Pressure(in)'].fillna(df_sel['Pressure(in)'].value_counts().index[0], inplace =True)\n",
        "\n",
        "df_sel['Wind_Direction'].fillna(df_sel['Wind_Direction'].value_counts().index[0], inplace =True)\n",
        "\n",
        "df_sel['TMC'].fillna(-999, inplace =True)  # may be changing to Nan\n",
        "\n",
        "faulty_data = missing_data_stats(df_sel)\n",
        "faulty_data"
      ],
      "execution_count": 0,
      "outputs": [
        {
          "output_type": "stream",
          "text": [
            "There are 3 columns that have missing values out of  31  columns.\n"
          ],
          "name": "stdout"
        },
        {
          "output_type": "execute_result",
          "data": {
            "text/html": [
              "<div>\n",
              "<style scoped>\n",
              "    .dataframe tbody tr th:only-of-type {\n",
              "        vertical-align: middle;\n",
              "    }\n",
              "\n",
              "    .dataframe tbody tr th {\n",
              "        vertical-align: top;\n",
              "    }\n",
              "\n",
              "    .dataframe thead th {\n",
              "        text-align: right;\n",
              "    }\n",
              "</style>\n",
              "<table border=\"1\" class=\"dataframe\">\n",
              "  <thead>\n",
              "    <tr style=\"text-align: right;\">\n",
              "      <th></th>\n",
              "      <th>Zero Values</th>\n",
              "      <th>Missing(Null) Values</th>\n",
              "      <th>% of Total Missing(Null) Values</th>\n",
              "      <th>Total (Zero + Missing) Values</th>\n",
              "      <th>% Total (Zero + Missing) Values</th>\n",
              "      <th>Data Type</th>\n",
              "    </tr>\n",
              "  </thead>\n",
              "  <tbody>\n",
              "    <tr>\n",
              "      <th>Timezone</th>\n",
              "      <td>0</td>\n",
              "      <td>3163</td>\n",
              "      <td>0.1</td>\n",
              "      <td>3163</td>\n",
              "      <td>0.1</td>\n",
              "      <td>category</td>\n",
              "    </tr>\n",
              "    <tr>\n",
              "      <th>Sunrise_Sunset</th>\n",
              "      <td>0</td>\n",
              "      <td>93</td>\n",
              "      <td>0.0</td>\n",
              "      <td>93</td>\n",
              "      <td>0.0</td>\n",
              "      <td>category</td>\n",
              "    </tr>\n",
              "    <tr>\n",
              "      <th>City</th>\n",
              "      <td>0</td>\n",
              "      <td>83</td>\n",
              "      <td>0.0</td>\n",
              "      <td>83</td>\n",
              "      <td>0.0</td>\n",
              "      <td>category</td>\n",
              "    </tr>\n",
              "  </tbody>\n",
              "</table>\n",
              "</div>"
            ],
            "text/plain": [
              "                Zero Values  Missing(Null) Values  \\\n",
              "Timezone                  0                  3163   \n",
              "Sunrise_Sunset            0                    93   \n",
              "City                      0                    83   \n",
              "\n",
              "                % of Total Missing(Null) Values  \\\n",
              "Timezone                                    0.1   \n",
              "Sunrise_Sunset                              0.0   \n",
              "City                                        0.0   \n",
              "\n",
              "                Total (Zero + Missing) Values  \\\n",
              "Timezone                                 3163   \n",
              "Sunrise_Sunset                             93   \n",
              "City                                       83   \n",
              "\n",
              "                % Total (Zero + Missing) Values Data Type  \n",
              "Timezone                                    0.1  category  \n",
              "Sunrise_Sunset                              0.0  category  \n",
              "City                                        0.0  category  "
            ]
          },
          "metadata": {
            "tags": []
          },
          "execution_count": 15
        }
      ]
    },
    {
      "cell_type": "code",
      "metadata": {
        "id": "3HkBGHRD_sLT",
        "colab_type": "code",
        "outputId": "2f1ae6c1-1a53-415d-f585-25c3fc56457e",
        "colab": {
          "base_uri": "https://localhost:8080/",
          "height": 34
        }
      },
      "source": [
        "df_sel.dropna(subset=df_sel.columns[df_sel.isnull().mean()!=0], how='any', axis=0, inplace=True)\n",
        "df_sel.shape\n",
        "\n",
        "faulty_data = missing_data_stats(df_sel)\n",
        "faulty_data"
      ],
      "execution_count": 0,
      "outputs": [
        {
          "output_type": "stream",
          "text": [
            "There are 0 columns that have missing values out of  31  columns.\n"
          ],
          "name": "stdout"
        }
      ]
    },
    {
      "cell_type": "code",
      "metadata": {
        "id": "K0xl4ZecY2WP",
        "colab_type": "code",
        "outputId": "50b5c3a6-c06e-46d6-cea5-4e8e048a97aa",
        "colab": {
          "base_uri": "https://localhost:8080/",
          "height": 34
        }
      },
      "source": [
        "Counter(df_sel[\"Severity\"])"
      ],
      "execution_count": 0,
      "outputs": [
        {
          "output_type": "execute_result",
          "data": {
            "text/plain": [
              "Counter({1.0: 968, 2.0: 1990817, 3.0: 887060, 4.0: 92212})"
            ]
          },
          "metadata": {
            "tags": []
          },
          "execution_count": 17
        }
      ]
    },
    {
      "cell_type": "code",
      "metadata": {
        "id": "tUYBHUwP8zYl",
        "colab_type": "code",
        "colab": {}
      },
      "source": [
        "# creating a balanced dataset from the above \n",
        "\n",
        "data =df_sel.loc[df_sel.Severity==1.0].copy()\n",
        "\n",
        "data = pd.concat([data, df_sel.loc[df_sel.Severity==4.0][: 10000]])\n",
        "\n",
        "data = pd.concat([data, df_sel.loc[df_sel.Severity==2.0][: 10000]])\n",
        "\n",
        "data = pd.concat([data, df_sel.loc[df_sel.Severity==3.0][: 10000]])\n",
        "\n",
        "data.replace([np.inf, -np.inf], np.nan, inplace=True)\n",
        "\n",
        "data[\"Weekday\"] = data[\"Weekday\"].astype('category')\n",
        "\n",
        "# data[\"Junction\"].replace({0.0: \"NO\", 1.0: \"YES\"}, inplace=True)\n",
        "data[\"Junction\"] = data[\"Junction\"].astype('category')\n",
        "\n",
        "# data[\"No_Exit\"].replace({0.0: \"NO\", 1.0: \"YES\"}, inplace=True)\n",
        "data[\"No_Exit\"] = data[\"No_Exit\"].astype('category')\n",
        "\n",
        "# data[\"Railway\"].replace({0.0: \"NO\", 1.0: \"YES\"}, inplace=True)\n",
        "data[\"Railway\"] = data[\"Railway\"].astype('category')\n",
        "\n",
        "# data[\"Roundabout\"].replace({0.0: \"NO\", 1.0: \"YES\"}, inplace=True)\n",
        "data[\"Roundabout\"] = data[\"Roundabout\"].astype('category')\n",
        "\n",
        "# data[\"Stop\"].replace({0.0: \"NO\", 1.0: \"YES\"}, inplace=True)\n",
        "data[\"Stop\"] = data[\"Stop\"].astype('category')\n",
        "\n",
        "# data[\"Traffic_Calming\"].replace({0.0: \"NO\", 1.0: \"YES\"}, inplace=True)\n",
        "data[\"Traffic_Calming\"] = data[\"Traffic_Calming\"].astype('category')\n",
        "\n",
        "# data[\"Traffic_Signal\"].replace({0.0: \"NO\", 1.0: \"YES\"}, inplace=True)\n",
        "data[\"Traffic_Signal\"] = data[\"Traffic_Signal\"].astype('category')\n",
        "\n",
        "# data[\"Turning_Loop\"].replace({0.0: \"NO\", 1.0: \"YES\"}, inplace=True)\n",
        "data[\"Turning_Loop\"] = data[\"Turning_Loop\"].astype('category')\n",
        "\n",
        "# data[\"Amenity\"].replace({0.0: \"NO\", 1.0: \"YES\"}, inplace=True)\n",
        "data[\"Amenity\"] = data[\"Amenity\"].astype('category')\n",
        "\n",
        "# data[\"Bump\"].replace({0.0: \"NO\", 1.0: \"YES\"}, inplace=True)\n",
        "data[\"Bump\"] = data[\"Bump\"].astype('category')\n",
        "\n",
        "# data[\"Crossing\"].replace({0.0: \"NO\", 1.0: \"YES\"}, inplace=True)\n",
        "data[\"Crossing\"] = data[\"Crossing\"].astype('category')\n",
        "\n",
        "# data[\"Give_Way\"].replace({0.0: \"NO\", 1.0: \"YES\"}, inplace=True)\n",
        "data[\"Give_Way\"] = data[\"Give_Way\"].astype('category')\n",
        "\n",
        "# data[\"Station\"].replace({0.0: \"NO\", 1.0: \"YES\"}, inplace=True)\n",
        "data[\"Station\"] = data[\"Station\"].astype('category')"
      ],
      "execution_count": 0,
      "outputs": []
    },
    {
      "cell_type": "code",
      "metadata": {
        "id": "m0Na6WYTTyV8",
        "colab_type": "code",
        "outputId": "e1c2c9b6-d0fb-4bc7-fa8f-f32ea73a89cf",
        "colab": {
          "base_uri": "https://localhost:8080/",
          "height": 68
        }
      },
      "source": [
        "print(\"shape before droping Nan: \", data.shape)\n",
        "data.dropna(inplace=True)\n",
        "\n",
        "data = data.reset_index()\n",
        "\n",
        "print(\"shape after dropping Nan: \", data.shape)\n",
        "Counter(data[\"Severity\"])"
      ],
      "execution_count": 0,
      "outputs": [
        {
          "output_type": "stream",
          "text": [
            "shape before droping Nan:  (30968, 31)\n",
            "shape after dropping Nan:  (30968, 32)\n"
          ],
          "name": "stdout"
        },
        {
          "output_type": "execute_result",
          "data": {
            "text/plain": [
              "Counter({1.0: 968, 2.0: 10000, 3.0: 10000, 4.0: 10000})"
            ]
          },
          "metadata": {
            "tags": []
          },
          "execution_count": 38
        }
      ]
    },
    {
      "cell_type": "code",
      "metadata": {
        "id": "PfyCNdHQOxl_",
        "colab_type": "code",
        "outputId": "8e8a3cd9-e08a-44c8-c698-ab94507c092a",
        "colab": {
          "base_uri": "https://localhost:8080/",
          "height": 336
        }
      },
      "source": [
        "fig = plt.figure()\n",
        "ax = fig.add_axes([0,0,1,1])\n",
        "Classes = ['Class -1', 'Class -2', 'Class -3', 'Class -4']\n",
        "count = Counter(data[\"Severity\"])\n",
        "counts = [count[1], count[2], count[3], count[4]]\n",
        "ax.bar(Classes,counts)\n",
        "plt.show()"
      ],
      "execution_count": 0,
      "outputs": [
        {
          "output_type": "display_data",
          "data": {
            "image/png": "[encoded data removed]",
            "text/plain": [
              "<Figure size 432x288 with 1 Axes>"
            ]
          },
          "metadata": {
            "tags": []
          }
        }
      ]
    },
    {
      "cell_type": "code",
      "metadata": {
        "id": "KyMGtxmpj1xO",
        "colab_type": "code",
        "outputId": "4d48bad2-e0f4-4250-e8fc-fc48fe4f8b1f",
        "colab": {
          "base_uri": "https://localhost:8080/",
          "height": 391
        }
      },
      "source": [
        "data.drop([\"index\"], axis= 1, inplace= True)\n",
        "\n",
        "dummy_cate_col_index = []\n",
        "cate_col = []\n",
        "counter  = 0\n",
        "for col in data.columns:\n",
        "  if str(data[col].dtype) == \"category\":\n",
        "    dummy_cate_col_index.append(counter)\n",
        "    cate_col.append(col)\n",
        "  counter += 1\n",
        "\n",
        "cate_col_index = []\n",
        "\n",
        "for index in dummy_cate_col_index:\n",
        "  cate_col_index.append(index - 1)\n",
        "\n",
        "cate_col_index"
      ],
      "execution_count": 0,
      "outputs": [
        {
          "output_type": "execute_result",
          "data": {
            "text/plain": [
              "[3,\n",
              " 4,\n",
              " 5,\n",
              " 6,\n",
              " 7,\n",
              " 12,\n",
              " 13,\n",
              " 14,\n",
              " 15,\n",
              " 16,\n",
              " 17,\n",
              " 18,\n",
              " 19,\n",
              " 20,\n",
              " 21,\n",
              " 22,\n",
              " 23,\n",
              " 24,\n",
              " 25,\n",
              " 26,\n",
              " 27,\n",
              " 29]"
            ]
          },
          "metadata": {
            "tags": []
          },
          "execution_count": 40
        }
      ]
    },
    {
      "cell_type": "code",
      "metadata": {
        "id": "otFSzUY-UB8O",
        "colab_type": "code",
        "outputId": "40603a78-6fd7-4770-f502-ba3d4609b43f",
        "colab": {
          "base_uri": "https://localhost:8080/",
          "height": 391
        }
      },
      "source": [
        "cate_col"
      ],
      "execution_count": 0,
      "outputs": [
        {
          "output_type": "execute_result",
          "data": {
            "text/plain": [
              "['Side',\n",
              " 'City',\n",
              " 'County',\n",
              " 'State',\n",
              " 'Timezone',\n",
              " 'Wind_Direction',\n",
              " 'Weather_Condition',\n",
              " 'Amenity',\n",
              " 'Bump',\n",
              " 'Crossing',\n",
              " 'Give_Way',\n",
              " 'Junction',\n",
              " 'No_Exit',\n",
              " 'Railway',\n",
              " 'Roundabout',\n",
              " 'Station',\n",
              " 'Stop',\n",
              " 'Traffic_Calming',\n",
              " 'Traffic_Signal',\n",
              " 'Turning_Loop',\n",
              " 'Sunrise_Sunset',\n",
              " 'Weekday']"
            ]
          },
          "metadata": {
            "tags": []
          },
          "execution_count": 41
        }
      ]
    },
    {
      "cell_type": "code",
      "metadata": {
        "id": "bXqCIg4zg5pA",
        "colab_type": "code",
        "colab": {}
      },
      "source": [
        "for col in data.columns:\n",
        "  if str(data[col].dtype) == \"category\":\n",
        "    label_encoder = preprocessing.LabelEncoder()\n",
        "    label_encoder.fit(df_sel[col])\n",
        "    data[col] = label_encoder.transform(data[col])\n",
        "    with open(f\"{col}_encoder.pkl\", \"wb\") as f:\n",
        "      pickle.dump(label_encoder, f)"
      ],
      "execution_count": 0,
      "outputs": []
    },
    {
      "cell_type": "code",
      "metadata": {
        "id": "Jv3EQgEcjmZ-",
        "colab_type": "code",
        "colab": {}
      },
      "source": [
        "target = data[\"Severity\"]\n",
        "\n",
        "data.drop([\"Severity\"], axis=1, inplace=True)\n",
        "\n",
        "target_encoder = preprocessing.LabelEncoder()\n",
        "target_encoder.fit(target)\n",
        "target_ = target_encoder.transform(target)"
      ],
      "execution_count": 0,
      "outputs": []
    },
    {
      "cell_type": "code",
      "metadata": {
        "id": "Sc8UsAW7LTAu",
        "colab_type": "code",
        "colab": {}
      },
      "source": [
        "# convert integers to dummy variables (i.e. one hot encoded)\n",
        "\n",
        "# run this for deep learning\n",
        "\n",
        "target_ = np_utils.to_categorical(target_)"
      ],
      "execution_count": 0,
      "outputs": []
    },
    {
      "cell_type": "code",
      "metadata": {
        "id": "EFR29beUoEeO",
        "colab_type": "code",
        "outputId": "3c0d0f34-24a9-48a5-c59e-ee5d2d5fa6f4",
        "colab": {
          "base_uri": "https://localhost:8080/",
          "height": 34
        }
      },
      "source": [
        "Counter(target_)"
      ],
      "execution_count": 0,
      "outputs": [
        {
          "output_type": "execute_result",
          "data": {
            "text/plain": [
              "Counter({0: 968, 1: 10000, 2: 10000, 3: 10000})"
            ]
          },
          "metadata": {
            "tags": []
          },
          "execution_count": 44
        }
      ]
    },
    {
      "cell_type": "code",
      "metadata": {
        "id": "XoaqcBoNlp41",
        "colab_type": "code",
        "outputId": "7f1207d3-7639-4dd4-b47c-fe0bf161517a",
        "colab": {
          "base_uri": "https://localhost:8080/",
          "height": 122
        }
      },
      "source": [
        "sm = SMOTENC(random_state=42, categorical_features= cate_col_index)\n",
        "X_res, y_res = sm.fit_resample(data, target_)\n",
        "print('Resampled dataset samples per class {}'.format(Counter(y_res)))"
      ],
      "execution_count": 0,
      "outputs": [
        {
          "output_type": "stream",
          "text": [
            "/usr/local/lib/python3.6/dist-packages/sklearn/utils/deprecation.py:87: FutureWarning: Function safe_indexing is deprecated; safe_indexing is deprecated in version 0.22 and will be removed in version 0.24.\n",
            "  warnings.warn(msg, category=FutureWarning)\n",
            "/usr/local/lib/python3.6/dist-packages/sklearn/utils/deprecation.py:87: FutureWarning: Function safe_indexing is deprecated; safe_indexing is deprecated in version 0.22 and will be removed in version 0.24.\n",
            "  warnings.warn(msg, category=FutureWarning)\n"
          ],
          "name": "stderr"
        },
        {
          "output_type": "stream",
          "text": [
            "Resampled dataset samples per class Counter({0: 10000, 3: 10000, 1: 10000, 2: 10000})\n"
          ],
          "name": "stdout"
        }
      ]
    },
    {
      "cell_type": "code",
      "metadata": {
        "id": "o5Saj8IMMXwE",
        "colab_type": "code",
        "colab": {}
      },
      "source": [
        "X = X_res\n",
        "y = y_res\n",
        "\n",
        "# X = data\n",
        "# y = target_"
      ],
      "execution_count": 0,
      "outputs": []
    },
    {
      "cell_type": "code",
      "metadata": {
        "id": "Qh7kZNsmK0wU",
        "colab_type": "code",
        "colab": {}
      },
      "source": [
        "# For deep learning \n",
        "x_remain, x_valid, y_remain, y_valid = train_test_split(X, y, test_size=0.2, random_state=42, stratify=y)\n",
        "\n",
        "x_train, x_test, y_train, y_test = train_test_split(x_remain, y_remain, test_size=0.2, random_state=42, stratify=y_remain)"
      ],
      "execution_count": 0,
      "outputs": []
    },
    {
      "cell_type": "code",
      "metadata": {
        "id": "mjIngHo4KzlV",
        "colab_type": "code",
        "colab": {}
      },
      "source": [
        "# For Machine Learning learning \n",
        "x_train, x_test, y_train, y_test = train_test_split(X, y, test_size=0.2, random_state=42, stratify=y)"
      ],
      "execution_count": 0,
      "outputs": []
    },
    {
      "cell_type": "code",
      "metadata": {
        "id": "Ey0LrF3cDBJr",
        "colab_type": "code",
        "outputId": "6641f56a-f919-41a1-eb6d-49d9fa504a87",
        "colab": {
          "base_uri": "https://localhost:8080/",
          "height": 357
        }
      },
      "source": [
        "# Logistic regression\n",
        "lr = LogisticRegression(multi_class='multinomial' ,random_state=42)\n",
        "lr.fit(x_train, y_train)\n",
        "y_pred=lr.predict(x_test)\n",
        "\n",
        "# Get the accuracy score\n",
        "acc=accuracy_score(y_test, y_pred)\n",
        "\n",
        "print(\"[Logistic regression algorithm] accuracy_score: {:.3f}.\".format(acc))\n",
        "print(classification_report(y_pred, y_test))"
      ],
      "execution_count": 0,
      "outputs": [
        {
          "output_type": "stream",
          "text": [
            "[Logistic regression algorithm] accuracy_score: 0.592.\n",
            "              precision    recall  f1-score   support\n",
            "\n",
            "           0       0.55      0.61      0.58      1805\n",
            "           1       0.70      0.52      0.60      2703\n",
            "           2       0.46      0.56      0.50      1647\n",
            "           3       0.66      0.71      0.68      1845\n",
            "\n",
            "    accuracy                           0.59      8000\n",
            "   macro avg       0.59      0.60      0.59      8000\n",
            "weighted avg       0.61      0.59      0.59      8000\n",
            "\n"
          ],
          "name": "stdout"
        },
        {
          "output_type": "stream",
          "text": [
            "/usr/local/lib/python3.6/dist-packages/sklearn/linear_model/_logistic.py:940: ConvergenceWarning: lbfgs failed to converge (status=1):\n",
            "STOP: TOTAL NO. of ITERATIONS REACHED LIMIT.\n",
            "\n",
            "Increase the number of iterations (max_iter) or scale the data as shown in:\n",
            "    https://scikit-learn.org/stable/modules/preprocessing.html\n",
            "Please also refer to the documentation for alternative solver options:\n",
            "    https://scikit-learn.org/stable/modules/linear_model.html#logistic-regression\n",
            "  extra_warning_msg=_LOGISTIC_SOLVER_CONVERGENCE_MSG)\n"
          ],
          "name": "stderr"
        }
      ]
    },
    {
      "cell_type": "code",
      "metadata": {
        "id": "kM-CdOm5Prkc",
        "colab_type": "code",
        "outputId": "21fe3a3e-b96a-4620-9aed-b0bd29dadff2",
        "colab": {
          "base_uri": "https://localhost:8080/",
          "height": 275
        }
      },
      "source": [
        "svm_clf = svm.LinearSVC()\n",
        "svm_clf.fit(x_train, y_train)\n",
        "y_pred = svm_clf.predict(x_test)\n",
        "\n",
        "# Get the accuracy score\n",
        "acc=accuracy_score(y_test, y_pred)\n",
        "\n",
        "# Model Accuracy, how often is the classifier correct?\n",
        "print(\"[SVM algorithm] accuracy_score: {:.3f}.\".format(acc))\n",
        "print(classification_report(y_pred, y_test))"
      ],
      "execution_count": 0,
      "outputs": [
        {
          "output_type": "stream",
          "text": [
            "[SVM algorithm] accuracy_score: 0.379.\n",
            "              precision    recall  f1-score   support\n",
            "\n",
            "           0       0.98      0.29      0.45      6789\n",
            "           1       0.03      0.63      0.06       101\n",
            "           2       0.05      0.66      0.10       157\n",
            "           3       0.45      0.95      0.61       953\n",
            "\n",
            "    accuracy                           0.38      8000\n",
            "   macro avg       0.38      0.63      0.30      8000\n",
            "weighted avg       0.89      0.38      0.45      8000\n",
            "\n"
          ],
          "name": "stdout"
        },
        {
          "output_type": "stream",
          "text": [
            "/usr/local/lib/python3.6/dist-packages/sklearn/svm/_base.py:947: ConvergenceWarning: Liblinear failed to converge, increase the number of iterations.\n",
            "  \"the number of iterations.\", ConvergenceWarning)\n"
          ],
          "name": "stderr"
        }
      ]
    },
    {
      "cell_type": "code",
      "metadata": {
        "id": "GJbso57gF6H_",
        "colab_type": "code",
        "outputId": "ceb49040-a9c6-4500-f6af-dd94b8c74dca",
        "colab": {
          "base_uri": "https://localhost:8080/",
          "height": 221
        }
      },
      "source": [
        "NB_clf = GaussianNB()\n",
        "NB_clf.fit(x_train, y_train)\n",
        "y_pred=NB_clf.predict(np.array(x_test))\n",
        "\n",
        "# Get the accuracy score\n",
        "acc=accuracy_score(y_test, y_pred)\n",
        "\n",
        "# Model Accuracy, how often is the classifier correct?\n",
        "print(\"[Naive Bieas algorithm] accuracy_score: {:.3f}.\".format(acc))\n",
        "print(classification_report(y_pred, y_test))"
      ],
      "execution_count": 0,
      "outputs": [
        {
          "output_type": "stream",
          "text": [
            "[Naive Bieas algorithm] accuracy_score: 0.694.\n",
            "              precision    recall  f1-score   support\n",
            "\n",
            "           0       0.85      0.70      0.77      2420\n",
            "           1       0.30      0.78      0.44       779\n",
            "           2       0.92      0.56      0.69      3301\n",
            "           3       0.70      0.94      0.80      1500\n",
            "\n",
            "    accuracy                           0.69      8000\n",
            "   macro avg       0.69      0.74      0.68      8000\n",
            "weighted avg       0.80      0.69      0.71      8000\n",
            "\n"
          ],
          "name": "stdout"
        }
      ]
    },
    {
      "cell_type": "code",
      "metadata": {
        "id": "W_VuCF-JG7KO",
        "colab_type": "code",
        "outputId": "61e1951f-8480-4259-9b6a-c8c1e79f8d82",
        "colab": {
          "base_uri": "https://localhost:8080/",
          "height": 221
        }
      },
      "source": [
        "SGD_clf = SGDClassifier()\n",
        "SGD_clf.fit(x_train, y_train)\n",
        "y_pred= SGD_clf.predict(np.array(x_test))\n",
        "\n",
        "# Get the accuracy score\n",
        "acc=accuracy_score(y_test, y_pred)\n",
        "\n",
        "# Model Accuracy, how often is the classifier correct?\n",
        "print(\"[Shocatic Gradient Descent algorithm] accuracy_score: {:.3f}.\".format(acc))\n",
        "print(classification_report(y_pred, y_test))"
      ],
      "execution_count": 0,
      "outputs": [
        {
          "output_type": "stream",
          "text": [
            "[Shocatic Gradient Descent algorithm] accuracy_score: 0.517.\n",
            "              precision    recall  f1-score   support\n",
            "\n",
            "           0       0.61      0.61      0.61      1973\n",
            "           1       0.94      0.38      0.54      4879\n",
            "           2       0.06      0.71      0.12       181\n",
            "           3       0.46      0.96      0.62       967\n",
            "\n",
            "    accuracy                           0.52      8000\n",
            "   macro avg       0.52      0.67      0.47      8000\n",
            "weighted avg       0.78      0.52      0.56      8000\n",
            "\n"
          ],
          "name": "stdout"
        }
      ]
    },
    {
      "cell_type": "code",
      "metadata": {
        "id": "pTTTWNiZHXu2",
        "colab_type": "code",
        "outputId": "7cef6574-af39-44ae-d1bb-10ffc2457ec1",
        "colab": {
          "base_uri": "https://localhost:8080/",
          "height": 221
        }
      },
      "source": [
        "# Random Forest algorithm\n",
        "\n",
        "RF_clf= RandomForestClassifier(n_estimators=200)\n",
        "\n",
        "#Train the model using the training sets y_pred=clf.predict(X_test)\n",
        "RF_clf.fit(np.array(x_train),np.array(y_train))\n",
        "\n",
        "y_pred= RF_clf.predict(np.array(x_test))\n",
        "\n",
        "# Get the accuracy score\n",
        "acc=accuracy_score(y_test, y_pred)\n",
        "\n",
        "# Model Accuracy, how often is the classifier correct?\n",
        "print(\"[Randon forest algorithm] accuracy_score: {:.3f}.\".format(acc))\n",
        "print(classification_report(y_pred, y_test))"
      ],
      "execution_count": 0,
      "outputs": [
        {
          "output_type": "stream",
          "text": [
            "[Randon forest algorithm] accuracy_score: 0.919.\n",
            "              precision    recall  f1-score   support\n",
            "\n",
            "           0       0.96      0.96      0.96      1982\n",
            "           1       0.85      0.89      0.87      1913\n",
            "           2       0.91      0.86      0.88      2134\n",
            "           3       0.96      0.97      0.96      1971\n",
            "\n",
            "    accuracy                           0.92      8000\n",
            "   macro avg       0.92      0.92      0.92      8000\n",
            "weighted avg       0.92      0.92      0.92      8000\n",
            "\n"
          ],
          "name": "stdout"
        }
      ]
    },
    {
      "cell_type": "code",
      "metadata": {
        "id": "M4BK0wXX8BON",
        "colab_type": "code",
        "colab": {}
      },
      "source": [
        "with open(\"Random_Forest.pkl\", \"wb\") as f:\n",
        "  pickle.dump(RF_clf, f)"
      ],
      "execution_count": 0,
      "outputs": []
    },
    {
      "cell_type": "code",
      "metadata": {
        "id": "37pZupxVP3fn",
        "colab_type": "code",
        "outputId": "71abd377-f5b3-4666-9665-32acf6e163c8",
        "colab": {
          "base_uri": "https://localhost:8080/",
          "height": 221
        }
      },
      "source": [
        "knn_clf = KNeighborsClassifier()\n",
        "knn_clf.fit(x_train, y_train)\n",
        "y_pred = knn_clf.predict(x_test)\n",
        "\n",
        "# Get the accuracy score\n",
        "acc=accuracy_score(y_test, y_pred)\n",
        "\n",
        "# Model Accuracy, how often is the classifier correct?\n",
        "print(\"[KNN algorithm] accuracy_score: {:.3f}.\".format(acc))\n",
        "print(classification_report(y_pred, y_test))"
      ],
      "execution_count": 0,
      "outputs": [
        {
          "output_type": "stream",
          "text": [
            "[KNN algorithm] accuracy_score: 0.835.\n",
            "              precision    recall  f1-score   support\n",
            "\n",
            "           0       0.94      0.88      0.91      2153\n",
            "           1       0.74      0.77      0.75      1915\n",
            "           2       0.81      0.75      0.78      2141\n",
            "           3       0.85      0.95      0.90      1791\n",
            "\n",
            "    accuracy                           0.83      8000\n",
            "   macro avg       0.83      0.84      0.83      8000\n",
            "weighted avg       0.84      0.83      0.83      8000\n",
            "\n"
          ],
          "name": "stdout"
        }
      ]
    },
    {
      "cell_type": "code",
      "metadata": {
        "id": "TANaPwT6OvWT",
        "colab_type": "code",
        "outputId": "9662176e-88e4-4d90-8104-4ff8664103c9",
        "colab": {
          "base_uri": "https://localhost:8080/",
          "height": 221
        }
      },
      "source": [
        "xgb_clf = XGBClassifier(\n",
        "  learning_rate =0.1,\n",
        "  n_estimators=1000,\n",
        "  max_depth=5,\n",
        "  min_child_weight=1,\n",
        "  gamma=0,\n",
        "  subsample=0.8,\n",
        "  colsample_bytree=0.8,\n",
        "  objective= 'multi:softmax',\n",
        "  num_class =4,\n",
        "  nthread=4,\n",
        "  scale_pos_weight=1,\n",
        "  seed=27)\n",
        "\n",
        "xgb_clf.fit(x_train, y_train)\n",
        "y_pred = xgb_clf.predict(x_test)\n",
        "\n",
        "# Get the accuracy score\n",
        "acc=accuracy_score(y_test, y_pred)\n",
        "\n",
        "# Model Accuracy, how often is the classifier correct?\n",
        "print(\"[XGBoost algorithm] accuracy_score: {:.3f}.\".format(acc))\n",
        "print(classification_report(y_pred, y_test))"
      ],
      "execution_count": 0,
      "outputs": [
        {
          "output_type": "stream",
          "text": [
            "[XGBoost algorithm] accuracy_score: 0.934.\n",
            "              precision    recall  f1-score   support\n",
            "\n",
            "           0       0.96      0.98      0.97      1971\n",
            "           1       0.87      0.91      0.89      1914\n",
            "           2       0.93      0.87      0.90      2124\n",
            "           3       0.97      0.98      0.97      1991\n",
            "\n",
            "    accuracy                           0.93      8000\n",
            "   macro avg       0.93      0.94      0.93      8000\n",
            "weighted avg       0.93      0.93      0.93      8000\n",
            "\n"
          ],
          "name": "stdout"
        }
      ]
    },
    {
      "cell_type": "code",
      "metadata": {
        "id": "Rcs8BPlFNtmZ",
        "colab_type": "code",
        "outputId": "6b364ec9-d011-4909-9384-88afbcd4dde1",
        "colab": {
          "base_uri": "https://localhost:8080/",
          "height": 197
        }
      },
      "source": [
        "params = {\n",
        "    'objective' :'multiclass',\n",
        "    'num_class': 4,\n",
        "    'num_iterations': 1000,\n",
        "    'learning_rate' : 0.09,\n",
        "    'num_leaves': 90,\n",
        "    'num_threads': 8,\n",
        "    'max_depth': 20,\n",
        "    'bagging_freq': 1,\n",
        "    'seed': 42,\n",
        "    'boosting_type' : 'gbdt',\n",
        "    'metric': 'multi_logloss'\n",
        "}\n",
        "\n",
        "# making lgbm datasets for train and valid\n",
        "d_train = lgbm.Dataset(x_train, y_train)\n",
        "d_valid = lgbm.Dataset(x_valid, y_valid)"
      ],
      "execution_count": 0,
      "outputs": [
        {
          "output_type": "error",
          "ename": "NameError",
          "evalue": "ignored",
          "traceback": [
            "\u001b[0;31m---------------------------------------------------------------------------\u001b[0m",
            "\u001b[0;31mNameError\u001b[0m                                 Traceback (most recent call last)",
            "\u001b[0;32m<ipython-input-34-f8394b9c01c9>\u001b[0m in \u001b[0;36m<module>\u001b[0;34m()\u001b[0m\n\u001b[1;32m     15\u001b[0m \u001b[0;31m# making lgbm datasets for train and valid\u001b[0m\u001b[0;34m\u001b[0m\u001b[0;34m\u001b[0m\u001b[0;34m\u001b[0m\u001b[0m\n\u001b[1;32m     16\u001b[0m \u001b[0md_train\u001b[0m \u001b[0;34m=\u001b[0m \u001b[0mlgbm\u001b[0m\u001b[0;34m.\u001b[0m\u001b[0mDataset\u001b[0m\u001b[0;34m(\u001b[0m\u001b[0mx_train\u001b[0m\u001b[0;34m,\u001b[0m \u001b[0my_train\u001b[0m\u001b[0;34m)\u001b[0m\u001b[0;34m\u001b[0m\u001b[0;34m\u001b[0m\u001b[0m\n\u001b[0;32m---> 17\u001b[0;31m \u001b[0md_valid\u001b[0m \u001b[0;34m=\u001b[0m \u001b[0mlgbm\u001b[0m\u001b[0;34m.\u001b[0m\u001b[0mDataset\u001b[0m\u001b[0;34m(\u001b[0m\u001b[0mx_valid\u001b[0m\u001b[0;34m,\u001b[0m \u001b[0my_valid\u001b[0m\u001b[0;34m)\u001b[0m\u001b[0;34m\u001b[0m\u001b[0;34m\u001b[0m\u001b[0m\n\u001b[0m",
            "\u001b[0;31mNameError\u001b[0m: name 'x_valid' is not defined"
          ]
        }
      ]
    },
    {
      "cell_type": "code",
      "metadata": {
        "id": "6o4y8KLOP5AH",
        "colab_type": "code",
        "outputId": "f418a53b-cc37-4f2b-c748-5037da3e99e4",
        "colab": {
          "base_uri": "https://localhost:8080/",
          "height": 163
        }
      },
      "source": [
        "# training with early stop\n",
        "lgbm_clf = lgbm.train(params, d_train, 5000, valid_sets=[d_valid], verbose_eval=50, early_stopping_rounds=50)"
      ],
      "execution_count": 0,
      "outputs": [
        {
          "output_type": "error",
          "ename": "NameError",
          "evalue": "ignored",
          "traceback": [
            "\u001b[0;31m---------------------------------------------------------------------------\u001b[0m",
            "\u001b[0;31mNameError\u001b[0m                                 Traceback (most recent call last)",
            "\u001b[0;32m<ipython-input-35-b965f8580d48>\u001b[0m in \u001b[0;36m<module>\u001b[0;34m()\u001b[0m\n\u001b[0;32m----> 1\u001b[0;31m \u001b[0mlgbm_clf\u001b[0m \u001b[0;34m=\u001b[0m \u001b[0mlgbm\u001b[0m\u001b[0;34m.\u001b[0m\u001b[0mtrain\u001b[0m\u001b[0;34m(\u001b[0m\u001b[0mparams\u001b[0m\u001b[0;34m,\u001b[0m \u001b[0md_train\u001b[0m\u001b[0;34m,\u001b[0m \u001b[0;36m5000\u001b[0m\u001b[0;34m,\u001b[0m \u001b[0mvalid_sets\u001b[0m\u001b[0;34m=\u001b[0m\u001b[0;34m[\u001b[0m\u001b[0md_valid\u001b[0m\u001b[0;34m]\u001b[0m\u001b[0;34m,\u001b[0m \u001b[0mverbose_eval\u001b[0m\u001b[0;34m=\u001b[0m\u001b[0;36m50\u001b[0m\u001b[0;34m,\u001b[0m \u001b[0mearly_stopping_rounds\u001b[0m\u001b[0;34m=\u001b[0m\u001b[0;36m50\u001b[0m\u001b[0;34m)\u001b[0m\u001b[0;34m\u001b[0m\u001b[0;34m\u001b[0m\u001b[0m\n\u001b[0m",
            "\u001b[0;31mNameError\u001b[0m: name 'd_valid' is not defined"
          ]
        }
      ]
    },
    {
      "cell_type": "code",
      "metadata": {
        "id": "01DtnevpQO_a",
        "colab_type": "code",
        "colab": {}
      },
      "source": [
        "y_pred = lgbm_clf.predict(x_test)\n",
        "\n",
        "y_pred_class = []\n",
        "\n",
        "for pred_ in y_pred:\n",
        "  y_pred_class.append(np.argmax(pred_))\n",
        "\n",
        "# Get the accuracy score\n",
        "acc=accuracy_score(y_test, y_pred_class)\n",
        "\n",
        "# Model Accuracy, how often is the classifier correct?\n",
        "print(\"[Light GBM algorithm] accuracy_score: {:.3f}.\".format(acc))\n",
        "print(classification_report(y_pred_class, y_test))"
      ],
      "execution_count": 0,
      "outputs": []
    },
    {
      "cell_type": "code",
      "metadata": {
        "id": "Ll-RNFiDI81s",
        "colab_type": "code",
        "outputId": "d937d5d2-1478-4939-e574-b866b0bf2c62",
        "colab": {
          "base_uri": "https://localhost:8080/",
          "height": 221
        }
      },
      "source": [
        "clf1 = XGBClassifier(\n",
        "  learning_rate =0.1,\n",
        "  n_estimators=1000,\n",
        "  max_depth=5,\n",
        "  min_child_weight=1,\n",
        "  gamma=0,\n",
        "  subsample=0.8,\n",
        "  colsample_bytree=0.8,\n",
        "  objective= 'multi:softmax',\n",
        "  num_class =4,\n",
        "  nthread=4,\n",
        "  scale_pos_weight=1,\n",
        "  seed=27)\n",
        "\n",
        "clf2 = RandomForestClassifier(n_estimators=200)\n",
        "\n",
        "V_clf = VotingClassifier(estimators=[('xgb', clf1), ('RF', clf2)], voting='soft')\n",
        "V_clf = V_clf.fit(x_train, y_train)\n",
        "y_pred = V_clf.predict(x_test)\n",
        "\n",
        "# Get the accuracy score\n",
        "acc=accuracy_score(y_test, y_pred)\n",
        "\n",
        "# Model Accuracy, how often is the classifier correct?\n",
        "print(\"[Voting Classifier Algorithm] accuracy_score: {:.3f}.\".format(acc))\n",
        "print(classification_report(y_pred, y_test))"
      ],
      "execution_count": 0,
      "outputs": [
        {
          "output_type": "stream",
          "text": [
            "[Voting Classifier Algorithm] accuracy_score: 0.932.\n",
            "              precision    recall  f1-score   support\n",
            "\n",
            "           0       0.96      0.97      0.97      1978\n",
            "           1       0.86      0.92      0.89      1888\n",
            "           2       0.93      0.87      0.90      2152\n",
            "           3       0.97      0.98      0.97      1982\n",
            "\n",
            "    accuracy                           0.93      8000\n",
            "   macro avg       0.93      0.93      0.93      8000\n",
            "weighted avg       0.93      0.93      0.93      8000\n",
            "\n"
          ],
          "name": "stdout"
        }
      ]
    },
    {
      "cell_type": "code",
      "metadata": {
        "id": "8Z8hmKn9Ahr_",
        "colab_type": "code",
        "colab": {}
      },
      "source": [
        "filepath=\"/content/gdrive/My Drive/Major/Base Model/epochs:{epoch:03d}-val_acc:{val_accuracy:.3f}.hdf5\"\n",
        "checkpoint = ModelCheckpoint(filepath, monitor='val_accuracy', verbose=1, save_best_only=True, mode='max')\n",
        "\n",
        "callbacks_list = [checkpoint]"
      ],
      "execution_count": 0,
      "outputs": []
    },
    {
      "cell_type": "code",
      "metadata": {
        "id": "lanhXuRWg9gj",
        "colab_type": "code",
        "colab": {}
      },
      "source": [
        "x_train = np.array(x_train).reshape(x_train.shape[0], x_train.shape[1], 1)\n",
        "x_valid = np.array(x_valid).reshape(x_valid.shape[0], x_valid.shape[1], 1)\n",
        "x_test = np.array(x_test).reshape(x_test.shape[0], x_test.shape[1], 1)"
      ],
      "execution_count": 0,
      "outputs": []
    },
    {
      "cell_type": "code",
      "metadata": {
        "id": "gN-hHaJlhWIQ",
        "colab_type": "code",
        "colab": {}
      },
      "source": [
        "#create model\n",
        "model = Sequential()\n",
        "\n",
        "#add model layers\n",
        "model.add(Conv1D(64, kernel_size=3, activation='relu', input_shape=(x_train.shape[1],1)))\n",
        "model.add(Conv1D(32, kernel_size=3, activation='relu'))\n",
        "model.add(Flatten())\n",
        "model.add(Dense(4, activation='softmax'))\n",
        "\n",
        "model.compile(loss='categorical_crossentropy', optimizer='adam', metrics=['accuracy'])"
      ],
      "execution_count": 0,
      "outputs": []
    },
    {
      "cell_type": "code",
      "metadata": {
        "id": "Zv1jgrUf_1AJ",
        "colab_type": "code",
        "colab": {}
      },
      "source": [
        "model = Sequential()\n",
        "model.add(Dense(5000, input_dim=13615, activation='relu'))\n",
        "model.add(Dense(2500, activation='relu'))\n",
        "model.add(Dense(1500, activation='relu'))\n",
        "model.add(Dense(1000, activation='relu'))\n",
        "model.add(Dense(800, activation='relu'))\n",
        "model.add(Dense(400, activation='relu'))\n",
        "model.add(Dense(200, activation='relu'))\n",
        "model.add(Dense(100, activation='relu'))\n",
        "model.add(Dense(50, activation='relu'))\n",
        "model.add(Dense(4, activation='softmax'))\n",
        "\n",
        "# compile the keras model\n",
        "model.compile(loss='categorical_crossentropy', optimizer='sgd', metrics=['accuracy'])"
      ],
      "execution_count": 0,
      "outputs": []
    },
    {
      "cell_type": "code",
      "metadata": {
        "id": "WSdW8aNXB4pw",
        "colab_type": "code",
        "outputId": "5068239a-92ec-4cda-9d64-6706aae85cb8",
        "colab": {
          "base_uri": "https://localhost:8080/",
          "height": 391
        }
      },
      "source": [
        "# Train the model\n",
        "model.fit(x_train, y_train,\n",
        "                    batch_size=batch_size,\n",
        "                    epochs=nb_epochs,\n",
        "                    # initial_epoch = #,\n",
        "                    verbose=1,\n",
        "                    # callbacks=callbacks_list,\n",
        "                    validation_data=(x_valid, y_valid))"
      ],
      "execution_count": 0,
      "outputs": [
        {
          "output_type": "stream",
          "text": [
            "Train on 19819 samples, validate on 6194 samples\n",
            "Epoch 1/10\n",
            " 1204/19819 [>.............................] - ETA: 4:23 - loss: nan - accuracy: 0.0590"
          ],
          "name": "stdout"
        },
        {
          "output_type": "error",
          "ename": "KeyboardInterrupt",
          "evalue": "ignored",
          "traceback": [
            "\u001b[0;31m---------------------------------------------------------------------------\u001b[0m",
            "\u001b[0;31mKeyboardInterrupt\u001b[0m                         Traceback (most recent call last)",
            "\u001b[0;32m<ipython-input-54-66ba2029ebca>\u001b[0m in \u001b[0;36m<module>\u001b[0;34m()\u001b[0m\n\u001b[1;32m      5\u001b[0m                     \u001b[0mverbose\u001b[0m\u001b[0;34m=\u001b[0m\u001b[0;36m1\u001b[0m\u001b[0;34m,\u001b[0m\u001b[0;34m\u001b[0m\u001b[0;34m\u001b[0m\u001b[0m\n\u001b[1;32m      6\u001b[0m                     \u001b[0;31m# callbacks=callbacks_list,\u001b[0m\u001b[0;34m\u001b[0m\u001b[0;34m\u001b[0m\u001b[0;34m\u001b[0m\u001b[0m\n\u001b[0;32m----> 7\u001b[0;31m                     validation_data=(x_valid, y_valid))\n\u001b[0m",
            "\u001b[0;32m/usr/local/lib/python3.6/dist-packages/keras/engine/training.py\u001b[0m in \u001b[0;36mfit\u001b[0;34m(self, x, y, batch_size, epochs, verbose, callbacks, validation_split, validation_data, shuffle, class_weight, sample_weight, initial_epoch, steps_per_epoch, validation_steps, validation_freq, max_queue_size, workers, use_multiprocessing, **kwargs)\u001b[0m\n\u001b[1;32m   1237\u001b[0m                                         \u001b[0msteps_per_epoch\u001b[0m\u001b[0;34m=\u001b[0m\u001b[0msteps_per_epoch\u001b[0m\u001b[0;34m,\u001b[0m\u001b[0;34m\u001b[0m\u001b[0;34m\u001b[0m\u001b[0m\n\u001b[1;32m   1238\u001b[0m                                         \u001b[0mvalidation_steps\u001b[0m\u001b[0;34m=\u001b[0m\u001b[0mvalidation_steps\u001b[0m\u001b[0;34m,\u001b[0m\u001b[0;34m\u001b[0m\u001b[0;34m\u001b[0m\u001b[0m\n\u001b[0;32m-> 1239\u001b[0;31m                                         validation_freq=validation_freq)\n\u001b[0m\u001b[1;32m   1240\u001b[0m \u001b[0;34m\u001b[0m\u001b[0m\n\u001b[1;32m   1241\u001b[0m     def evaluate(self,\n",
            "\u001b[0;32m/usr/local/lib/python3.6/dist-packages/keras/engine/training_arrays.py\u001b[0m in \u001b[0;36mfit_loop\u001b[0;34m(model, fit_function, fit_inputs, out_labels, batch_size, epochs, verbose, callbacks, val_function, val_inputs, shuffle, initial_epoch, steps_per_epoch, validation_steps, validation_freq)\u001b[0m\n\u001b[1;32m    194\u001b[0m                     \u001b[0mins_batch\u001b[0m\u001b[0;34m[\u001b[0m\u001b[0mi\u001b[0m\u001b[0;34m]\u001b[0m \u001b[0;34m=\u001b[0m \u001b[0mins_batch\u001b[0m\u001b[0;34m[\u001b[0m\u001b[0mi\u001b[0m\u001b[0;34m]\u001b[0m\u001b[0;34m.\u001b[0m\u001b[0mtoarray\u001b[0m\u001b[0;34m(\u001b[0m\u001b[0;34m)\u001b[0m\u001b[0;34m\u001b[0m\u001b[0;34m\u001b[0m\u001b[0m\n\u001b[1;32m    195\u001b[0m \u001b[0;34m\u001b[0m\u001b[0m\n\u001b[0;32m--> 196\u001b[0;31m                 \u001b[0mouts\u001b[0m \u001b[0;34m=\u001b[0m \u001b[0mfit_function\u001b[0m\u001b[0;34m(\u001b[0m\u001b[0mins_batch\u001b[0m\u001b[0;34m)\u001b[0m\u001b[0;34m\u001b[0m\u001b[0;34m\u001b[0m\u001b[0m\n\u001b[0m\u001b[1;32m    197\u001b[0m                 \u001b[0mouts\u001b[0m \u001b[0;34m=\u001b[0m \u001b[0mto_list\u001b[0m\u001b[0;34m(\u001b[0m\u001b[0mouts\u001b[0m\u001b[0;34m)\u001b[0m\u001b[0;34m\u001b[0m\u001b[0;34m\u001b[0m\u001b[0m\n\u001b[1;32m    198\u001b[0m                 \u001b[0;32mfor\u001b[0m \u001b[0ml\u001b[0m\u001b[0;34m,\u001b[0m \u001b[0mo\u001b[0m \u001b[0;32min\u001b[0m \u001b[0mzip\u001b[0m\u001b[0;34m(\u001b[0m\u001b[0mout_labels\u001b[0m\u001b[0;34m,\u001b[0m \u001b[0mouts\u001b[0m\u001b[0;34m)\u001b[0m\u001b[0;34m:\u001b[0m\u001b[0;34m\u001b[0m\u001b[0;34m\u001b[0m\u001b[0m\n",
            "\u001b[0;32m/usr/local/lib/python3.6/dist-packages/tensorflow/python/keras/backend.py\u001b[0m in \u001b[0;36m__call__\u001b[0;34m(self, inputs)\u001b[0m\n\u001b[1;32m   3790\u001b[0m         \u001b[0mvalue\u001b[0m \u001b[0;34m=\u001b[0m \u001b[0mmath_ops\u001b[0m\u001b[0;34m.\u001b[0m\u001b[0mcast\u001b[0m\u001b[0;34m(\u001b[0m\u001b[0mvalue\u001b[0m\u001b[0;34m,\u001b[0m \u001b[0mtensor\u001b[0m\u001b[0;34m.\u001b[0m\u001b[0mdtype\u001b[0m\u001b[0;34m)\u001b[0m\u001b[0;34m\u001b[0m\u001b[0;34m\u001b[0m\u001b[0m\n\u001b[1;32m   3791\u001b[0m       \u001b[0mconverted_inputs\u001b[0m\u001b[0;34m.\u001b[0m\u001b[0mappend\u001b[0m\u001b[0;34m(\u001b[0m\u001b[0mvalue\u001b[0m\u001b[0;34m)\u001b[0m\u001b[0;34m\u001b[0m\u001b[0;34m\u001b[0m\u001b[0m\n\u001b[0;32m-> 3792\u001b[0;31m     \u001b[0moutputs\u001b[0m \u001b[0;34m=\u001b[0m \u001b[0mself\u001b[0m\u001b[0;34m.\u001b[0m\u001b[0m_graph_fn\u001b[0m\u001b[0;34m(\u001b[0m\u001b[0;34m*\u001b[0m\u001b[0mconverted_inputs\u001b[0m\u001b[0;34m)\u001b[0m\u001b[0;34m\u001b[0m\u001b[0;34m\u001b[0m\u001b[0m\n\u001b[0m\u001b[1;32m   3793\u001b[0m \u001b[0;34m\u001b[0m\u001b[0m\n\u001b[1;32m   3794\u001b[0m     \u001b[0;31m# EagerTensor.numpy() will often make a copy to ensure memory safety.\u001b[0m\u001b[0;34m\u001b[0m\u001b[0;34m\u001b[0m\u001b[0;34m\u001b[0m\u001b[0m\n",
            "\u001b[0;32m/usr/local/lib/python3.6/dist-packages/tensorflow/python/eager/function.py\u001b[0m in \u001b[0;36m__call__\u001b[0;34m(self, *args, **kwargs)\u001b[0m\n\u001b[1;32m   1603\u001b[0m       \u001b[0mTypeError\u001b[0m\u001b[0;34m:\u001b[0m \u001b[0mFor\u001b[0m \u001b[0minvalid\u001b[0m \u001b[0mpositional\u001b[0m\u001b[0;34m/\u001b[0m\u001b[0mkeyword\u001b[0m \u001b[0margument\u001b[0m \u001b[0mcombinations\u001b[0m\u001b[0;34m.\u001b[0m\u001b[0;34m\u001b[0m\u001b[0;34m\u001b[0m\u001b[0m\n\u001b[1;32m   1604\u001b[0m     \"\"\"\n\u001b[0;32m-> 1605\u001b[0;31m     \u001b[0;32mreturn\u001b[0m \u001b[0mself\u001b[0m\u001b[0;34m.\u001b[0m\u001b[0m_call_impl\u001b[0m\u001b[0;34m(\u001b[0m\u001b[0margs\u001b[0m\u001b[0;34m,\u001b[0m \u001b[0mkwargs\u001b[0m\u001b[0;34m)\u001b[0m\u001b[0;34m\u001b[0m\u001b[0;34m\u001b[0m\u001b[0m\n\u001b[0m\u001b[1;32m   1606\u001b[0m \u001b[0;34m\u001b[0m\u001b[0m\n\u001b[1;32m   1607\u001b[0m   \u001b[0;32mdef\u001b[0m \u001b[0m_call_impl\u001b[0m\u001b[0;34m(\u001b[0m\u001b[0mself\u001b[0m\u001b[0;34m,\u001b[0m \u001b[0margs\u001b[0m\u001b[0;34m,\u001b[0m \u001b[0mkwargs\u001b[0m\u001b[0;34m,\u001b[0m \u001b[0mcancellation_manager\u001b[0m\u001b[0;34m=\u001b[0m\u001b[0;32mNone\u001b[0m\u001b[0;34m)\u001b[0m\u001b[0;34m:\u001b[0m\u001b[0;34m\u001b[0m\u001b[0;34m\u001b[0m\u001b[0m\n",
            "\u001b[0;32m/usr/local/lib/python3.6/dist-packages/tensorflow/python/eager/function.py\u001b[0m in \u001b[0;36m_call_impl\u001b[0;34m(self, args, kwargs, cancellation_manager)\u001b[0m\n\u001b[1;32m   1643\u001b[0m       raise TypeError(\"Keyword arguments {} unknown. Expected {}.\".format(\n\u001b[1;32m   1644\u001b[0m           list(kwargs.keys()), list(self._arg_keywords)))\n\u001b[0;32m-> 1645\u001b[0;31m     \u001b[0;32mreturn\u001b[0m \u001b[0mself\u001b[0m\u001b[0;34m.\u001b[0m\u001b[0m_call_flat\u001b[0m\u001b[0;34m(\u001b[0m\u001b[0margs\u001b[0m\u001b[0;34m,\u001b[0m \u001b[0mself\u001b[0m\u001b[0;34m.\u001b[0m\u001b[0mcaptured_inputs\u001b[0m\u001b[0;34m,\u001b[0m \u001b[0mcancellation_manager\u001b[0m\u001b[0;34m)\u001b[0m\u001b[0;34m\u001b[0m\u001b[0;34m\u001b[0m\u001b[0m\n\u001b[0m\u001b[1;32m   1646\u001b[0m \u001b[0;34m\u001b[0m\u001b[0m\n\u001b[1;32m   1647\u001b[0m   \u001b[0;32mdef\u001b[0m \u001b[0m_filtered_call\u001b[0m\u001b[0;34m(\u001b[0m\u001b[0mself\u001b[0m\u001b[0;34m,\u001b[0m \u001b[0margs\u001b[0m\u001b[0;34m,\u001b[0m \u001b[0mkwargs\u001b[0m\u001b[0;34m)\u001b[0m\u001b[0;34m:\u001b[0m\u001b[0;34m\u001b[0m\u001b[0;34m\u001b[0m\u001b[0m\n",
            "\u001b[0;32m/usr/local/lib/python3.6/dist-packages/tensorflow/python/eager/function.py\u001b[0m in \u001b[0;36m_call_flat\u001b[0;34m(self, args, captured_inputs, cancellation_manager)\u001b[0m\n\u001b[1;32m   1744\u001b[0m       \u001b[0;31m# No tape is watching; skip to running the function.\u001b[0m\u001b[0;34m\u001b[0m\u001b[0;34m\u001b[0m\u001b[0;34m\u001b[0m\u001b[0m\n\u001b[1;32m   1745\u001b[0m       return self._build_call_outputs(self._inference_function.call(\n\u001b[0;32m-> 1746\u001b[0;31m           ctx, args, cancellation_manager=cancellation_manager))\n\u001b[0m\u001b[1;32m   1747\u001b[0m     forward_backward = self._select_forward_and_backward_functions(\n\u001b[1;32m   1748\u001b[0m         \u001b[0margs\u001b[0m\u001b[0;34m,\u001b[0m\u001b[0;34m\u001b[0m\u001b[0;34m\u001b[0m\u001b[0m\n",
            "\u001b[0;32m/usr/local/lib/python3.6/dist-packages/tensorflow/python/eager/function.py\u001b[0m in \u001b[0;36mcall\u001b[0;34m(self, ctx, args, cancellation_manager)\u001b[0m\n\u001b[1;32m    596\u001b[0m               \u001b[0minputs\u001b[0m\u001b[0;34m=\u001b[0m\u001b[0margs\u001b[0m\u001b[0;34m,\u001b[0m\u001b[0;34m\u001b[0m\u001b[0;34m\u001b[0m\u001b[0m\n\u001b[1;32m    597\u001b[0m               \u001b[0mattrs\u001b[0m\u001b[0;34m=\u001b[0m\u001b[0mattrs\u001b[0m\u001b[0;34m,\u001b[0m\u001b[0;34m\u001b[0m\u001b[0;34m\u001b[0m\u001b[0m\n\u001b[0;32m--> 598\u001b[0;31m               ctx=ctx)\n\u001b[0m\u001b[1;32m    599\u001b[0m         \u001b[0;32melse\u001b[0m\u001b[0;34m:\u001b[0m\u001b[0;34m\u001b[0m\u001b[0;34m\u001b[0m\u001b[0m\n\u001b[1;32m    600\u001b[0m           outputs = execute.execute_with_cancellation(\n",
            "\u001b[0;32m/usr/local/lib/python3.6/dist-packages/tensorflow/python/eager/execute.py\u001b[0m in \u001b[0;36mquick_execute\u001b[0;34m(op_name, num_outputs, inputs, attrs, ctx, name)\u001b[0m\n\u001b[1;32m     58\u001b[0m     \u001b[0mctx\u001b[0m\u001b[0;34m.\u001b[0m\u001b[0mensure_initialized\u001b[0m\u001b[0;34m(\u001b[0m\u001b[0;34m)\u001b[0m\u001b[0;34m\u001b[0m\u001b[0;34m\u001b[0m\u001b[0m\n\u001b[1;32m     59\u001b[0m     tensors = pywrap_tfe.TFE_Py_Execute(ctx._handle, device_name, op_name,\n\u001b[0;32m---> 60\u001b[0;31m                                         inputs, attrs, num_outputs)\n\u001b[0m\u001b[1;32m     61\u001b[0m   \u001b[0;32mexcept\u001b[0m \u001b[0mcore\u001b[0m\u001b[0;34m.\u001b[0m\u001b[0m_NotOkStatusException\u001b[0m \u001b[0;32mas\u001b[0m \u001b[0me\u001b[0m\u001b[0;34m:\u001b[0m\u001b[0;34m\u001b[0m\u001b[0;34m\u001b[0m\u001b[0m\n\u001b[1;32m     62\u001b[0m     \u001b[0;32mif\u001b[0m \u001b[0mname\u001b[0m \u001b[0;32mis\u001b[0m \u001b[0;32mnot\u001b[0m \u001b[0;32mNone\u001b[0m\u001b[0;34m:\u001b[0m\u001b[0;34m\u001b[0m\u001b[0;34m\u001b[0m\u001b[0m\n",
            "\u001b[0;31mKeyboardInterrupt\u001b[0m: "
          ]
        }
      ]
    },
    {
      "cell_type": "code",
      "metadata": {
        "id": "crxIgitA_4KW",
        "colab_type": "code",
        "colab": {}
      },
      "source": [
        "estimator = KerasClassifier(build_fn=baseline_model, epochs=10, batch_size=28, verbose=1)\n",
        "kfold = KFold(n_splits=10, shuffle=True)\n",
        "results = cross_val_score(estimator, X, target_, cv=kfold)\n",
        "print(\"Baseline: %.2f%% (%.2f%%)\" % (results.mean()*100, results.std()*100))"
      ],
      "execution_count": 0,
      "outputs": []
    }
  ]
}